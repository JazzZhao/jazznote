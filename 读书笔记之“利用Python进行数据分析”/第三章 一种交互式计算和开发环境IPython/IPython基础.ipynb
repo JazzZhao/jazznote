{
 "cells": [
  {
   "cell_type": "markdown",
   "metadata": {},
   "source": [
    "### IPython基础\n",
    "Ipython的核心功能就是交互，它鼓励一种**执行-探索**的工作模式。\n",
    "Ipython的可读性更好，可以和print函数对比一下，如下图所示"
   ]
  },
  {
   "cell_type": "code",
   "execution_count": 2,
   "metadata": {},
   "outputs": [
    {
     "data": {
      "text/plain": [
       "{0: -0.15108724226349016,\n",
       " 1: 3.500246763545015,\n",
       " 2: 0.800247730133497,\n",
       " 3: 0.1875900219056968,\n",
       " 4: -1.3269664618674117,\n",
       " 5: 1.0497908362172546,\n",
       " 6: -1.3123655182975795}"
      ]
     },
     "execution_count": 2,
     "metadata": {},
     "output_type": "execute_result"
    }
   ],
   "source": [
    "import numpy as np\n",
    "from numpy.random import randn\n",
    "data = {i:randn() for i in range(7)}\n",
    "data"
   ]
  },
  {
   "cell_type": "code",
   "execution_count": 3,
   "metadata": {},
   "outputs": [
    {
     "name": "stdout",
     "output_type": "stream",
     "text": [
      "{0: -0.15108724226349016, 1: 3.500246763545015, 2: 0.800247730133497, 3: 0.1875900219056968, 4: -1.3269664618674117, 5: 1.0497908362172546, 6: -1.3123655182975795}\n"
     ]
    }
   ],
   "source": [
    "print(data)"
   ]
  }
 ],
 "metadata": {
  "kernelspec": {
   "display_name": "Python 3",
   "language": "python",
   "name": "python3"
  },
  "language_info": {
   "codemirror_mode": {
    "name": "ipython",
    "version": 3
   },
   "file_extension": ".py",
   "mimetype": "text/x-python",
   "name": "python",
   "nbconvert_exporter": "python",
   "pygments_lexer": "ipython3",
   "version": "3.7.1"
  }
 },
 "nbformat": 4,
 "nbformat_minor": 2
}
