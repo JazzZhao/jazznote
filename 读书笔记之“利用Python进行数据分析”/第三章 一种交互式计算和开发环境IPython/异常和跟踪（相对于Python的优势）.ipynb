{
 "cells": [
  {
   "cell_type": "markdown",
   "metadata": {},
   "source": [
    "### 异常和跟踪（相对于Python的*优势*）\n",
    "使用`%run`命令运行某段脚本时发生异常，Ipython默认会调用整个调用栈跟踪，同时还会附上调用栈各点附近的几行代码作为上下文参考，其中`%xmode`控制上下文代码数量。"
   ]
  }
 ],
 "metadata": {
  "kernelspec": {
   "display_name": "Python 3",
   "language": "python",
   "name": "python3"
  },
  "language_info": {
   "codemirror_mode": {
    "name": "ipython",
    "version": 3
   },
   "file_extension": ".py",
   "mimetype": "text/x-python",
   "name": "python",
   "nbconvert_exporter": "python",
   "pygments_lexer": "ipython3",
   "version": "3.7.1"
  }
 },
 "nbformat": 4,
 "nbformat_minor": 2
}
