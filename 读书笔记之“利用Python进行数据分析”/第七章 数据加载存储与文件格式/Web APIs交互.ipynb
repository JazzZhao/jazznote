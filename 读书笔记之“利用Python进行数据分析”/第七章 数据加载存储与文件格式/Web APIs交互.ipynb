{
 "cells": [
  {
   "cell_type": "markdown",
   "metadata": {},
   "source": [
    "### Web APIs交互\n",
    "使用requests包来搜索最新的30个GitHub上的pandas主题"
   ]
  },
  {
   "cell_type": "code",
   "execution_count": 2,
   "metadata": {},
   "outputs": [],
   "source": [
    "import requests"
   ]
  },
  {
   "cell_type": "code",
   "execution_count": 3,
   "metadata": {},
   "outputs": [],
   "source": [
    "url = 'https://api.github.com/repos/pandas-dev/pandas/issues'"
   ]
  },
  {
   "cell_type": "code",
   "execution_count": 4,
   "metadata": {},
   "outputs": [],
   "source": [
    "resp = requests.get(url)"
   ]
  },
  {
   "cell_type": "code",
   "execution_count": 5,
   "metadata": {},
   "outputs": [
    {
     "data": {
      "text/plain": [
       "<Response [200]>"
      ]
     },
     "execution_count": 5,
     "metadata": {},
     "output_type": "execute_result"
    }
   ],
   "source": [
    "resp"
   ]
  },
  {
   "cell_type": "markdown",
   "metadata": {},
   "source": [
    "将返回结果解析成Json"
   ]
  },
  {
   "cell_type": "code",
   "execution_count": 7,
   "metadata": {},
   "outputs": [],
   "source": [
    "data = resp.json()"
   ]
  },
  {
   "cell_type": "code",
   "execution_count": 10,
   "metadata": {},
   "outputs": [
    {
     "data": {
      "text/plain": [
       "'Operators between DataFrame and Series fail on large dataframes'"
      ]
     },
     "execution_count": 10,
     "metadata": {},
     "output_type": "execute_result"
    }
   ],
   "source": [
    "data[0]['title']"
   ]
  },
  {
   "cell_type": "markdown",
   "metadata": {},
   "source": [
    "data中的每个元素都包含Github问题页面上的所有数据的字典，所以直接转DataFrame并提取感兴趣字段"
   ]
  },
  {
   "cell_type": "code",
   "execution_count": 11,
   "metadata": {},
   "outputs": [],
   "source": [
    "import pandas as pd\n",
    "issus = pd.DataFrame(data, columns=['number', 'title'])"
   ]
  },
  {
   "cell_type": "code",
   "execution_count": 12,
   "metadata": {},
   "outputs": [
    {
     "data": {
      "text/html": [
       "<div>\n",
       "<style scoped>\n",
       "    .dataframe tbody tr th:only-of-type {\n",
       "        vertical-align: middle;\n",
       "    }\n",
       "\n",
       "    .dataframe tbody tr th {\n",
       "        vertical-align: top;\n",
       "    }\n",
       "\n",
       "    .dataframe thead th {\n",
       "        text-align: right;\n",
       "    }\n",
       "</style>\n",
       "<table border=\"1\" class=\"dataframe\">\n",
       "  <thead>\n",
       "    <tr style=\"text-align: right;\">\n",
       "      <th></th>\n",
       "      <th>number</th>\n",
       "      <th>title</th>\n",
       "    </tr>\n",
       "  </thead>\n",
       "  <tbody>\n",
       "    <tr>\n",
       "      <th>0</th>\n",
       "      <td>27636</td>\n",
       "      <td>Operators between DataFrame and Series fail on...</td>\n",
       "    </tr>\n",
       "    <tr>\n",
       "      <th>1</th>\n",
       "      <td>27635</td>\n",
       "      <td>export result as csv file</td>\n",
       "    </tr>\n",
       "    <tr>\n",
       "      <th>2</th>\n",
       "      <td>27634</td>\n",
       "      <td>pandas.ExcelWriter has abstract methods</td>\n",
       "    </tr>\n",
       "    <tr>\n",
       "      <th>3</th>\n",
       "      <td>27633</td>\n",
       "      <td>EA: implement+test EA.view</td>\n",
       "    </tr>\n",
       "    <tr>\n",
       "      <th>4</th>\n",
       "      <td>27632</td>\n",
       "      <td>CLN: Assorted cleanups</td>\n",
       "    </tr>\n",
       "    <tr>\n",
       "      <th>5</th>\n",
       "      <td>27631</td>\n",
       "      <td>BUG: raise when wrong level name is passed to ...</td>\n",
       "    </tr>\n",
       "    <tr>\n",
       "      <th>6</th>\n",
       "      <td>27630</td>\n",
       "      <td>Validate docstring directives</td>\n",
       "    </tr>\n",
       "    <tr>\n",
       "      <th>7</th>\n",
       "      <td>27629</td>\n",
       "      <td>DOC: Validate reST directives in docstrings</td>\n",
       "    </tr>\n",
       "    <tr>\n",
       "      <th>8</th>\n",
       "      <td>27628</td>\n",
       "      <td>Make interpolate_2d handle datetime64 correctly</td>\n",
       "    </tr>\n",
       "    <tr>\n",
       "      <th>9</th>\n",
       "      <td>27627</td>\n",
       "      <td>CLN: de-kludge Block.quantile</td>\n",
       "    </tr>\n",
       "    <tr>\n",
       "      <th>10</th>\n",
       "      <td>27625</td>\n",
       "      <td>remove undesired values kwarg</td>\n",
       "    </tr>\n",
       "    <tr>\n",
       "      <th>11</th>\n",
       "      <td>27624</td>\n",
       "      <td>BUG: cells are missing in the excel file when ...</td>\n",
       "    </tr>\n",
       "    <tr>\n",
       "      <th>12</th>\n",
       "      <td>27623</td>\n",
       "      <td>Fix AttributeError in scripts/validate_docstri...</td>\n",
       "    </tr>\n",
       "    <tr>\n",
       "      <th>13</th>\n",
       "      <td>27622</td>\n",
       "      <td>BUG: AttributeError in scripts/validate_docstr...</td>\n",
       "    </tr>\n",
       "    <tr>\n",
       "      <th>14</th>\n",
       "      <td>27620</td>\n",
       "      <td>DEPR: remove ix</td>\n",
       "    </tr>\n",
       "    <tr>\n",
       "      <th>15</th>\n",
       "      <td>27618</td>\n",
       "      <td>Remove Encoding of values in char** For Labels</td>\n",
       "    </tr>\n",
       "    <tr>\n",
       "      <th>16</th>\n",
       "      <td>27617</td>\n",
       "      <td>DEPR: Deprecate NDFrame.filter</td>\n",
       "    </tr>\n",
       "    <tr>\n",
       "      <th>17</th>\n",
       "      <td>27616</td>\n",
       "      <td>to_dict() on a boolean series sometimes return...</td>\n",
       "    </tr>\n",
       "    <tr>\n",
       "      <th>18</th>\n",
       "      <td>27615</td>\n",
       "      <td>Move json_normalize to pd namespace</td>\n",
       "    </tr>\n",
       "    <tr>\n",
       "      <th>19</th>\n",
       "      <td>27614</td>\n",
       "      <td>GroupBy(axis=1) Does Not Offer Implicit Select...</td>\n",
       "    </tr>\n",
       "    <tr>\n",
       "      <th>20</th>\n",
       "      <td>27613</td>\n",
       "      <td>assert_series_equal doesn't distinguish betwee...</td>\n",
       "    </tr>\n",
       "    <tr>\n",
       "      <th>21</th>\n",
       "      <td>27611</td>\n",
       "      <td>DEPR: execute deprecations for str.cat in v1.0</td>\n",
       "    </tr>\n",
       "    <tr>\n",
       "      <th>22</th>\n",
       "      <td>27610</td>\n",
       "      <td>Impossible to use any variant of \".real/.imag\"...</td>\n",
       "    </tr>\n",
       "    <tr>\n",
       "      <th>23</th>\n",
       "      <td>27608</td>\n",
       "      <td>Feature request: add the option of empty query...</td>\n",
       "    </tr>\n",
       "    <tr>\n",
       "      <th>24</th>\n",
       "      <td>27607</td>\n",
       "      <td>BUG: break reference cycle in Index._engine</td>\n",
       "    </tr>\n",
       "    <tr>\n",
       "      <th>25</th>\n",
       "      <td>27602</td>\n",
       "      <td>Disable codecov</td>\n",
       "    </tr>\n",
       "    <tr>\n",
       "      <th>26</th>\n",
       "      <td>27599</td>\n",
       "      <td>Complex value counts</td>\n",
       "    </tr>\n",
       "    <tr>\n",
       "      <th>27</th>\n",
       "      <td>27597</td>\n",
       "      <td>BUG: groupby.transform(name) validates name is...</td>\n",
       "    </tr>\n",
       "    <tr>\n",
       "      <th>28</th>\n",
       "      <td>27596</td>\n",
       "      <td>Cannot write partitioned parquet file to S3</td>\n",
       "    </tr>\n",
       "    <tr>\n",
       "      <th>29</th>\n",
       "      <td>27591</td>\n",
       "      <td>BUG: MultiIndex Slice returns incorrect slice ...</td>\n",
       "    </tr>\n",
       "  </tbody>\n",
       "</table>\n",
       "</div>"
      ],
      "text/plain": [
       "    number                                              title\n",
       "0    27636  Operators between DataFrame and Series fail on...\n",
       "1    27635                          export result as csv file\n",
       "2    27634            pandas.ExcelWriter has abstract methods\n",
       "3    27633                         EA: implement+test EA.view\n",
       "4    27632                             CLN: Assorted cleanups\n",
       "5    27631  BUG: raise when wrong level name is passed to ...\n",
       "6    27630                      Validate docstring directives\n",
       "7    27629        DOC: Validate reST directives in docstrings\n",
       "8    27628    Make interpolate_2d handle datetime64 correctly\n",
       "9    27627                      CLN: de-kludge Block.quantile\n",
       "10   27625                      remove undesired values kwarg\n",
       "11   27624  BUG: cells are missing in the excel file when ...\n",
       "12   27623  Fix AttributeError in scripts/validate_docstri...\n",
       "13   27622  BUG: AttributeError in scripts/validate_docstr...\n",
       "14   27620                                    DEPR: remove ix\n",
       "15   27618     Remove Encoding of values in char** For Labels\n",
       "16   27617                     DEPR: Deprecate NDFrame.filter\n",
       "17   27616  to_dict() on a boolean series sometimes return...\n",
       "18   27615                Move json_normalize to pd namespace\n",
       "19   27614  GroupBy(axis=1) Does Not Offer Implicit Select...\n",
       "20   27613  assert_series_equal doesn't distinguish betwee...\n",
       "21   27611     DEPR: execute deprecations for str.cat in v1.0\n",
       "22   27610  Impossible to use any variant of \".real/.imag\"...\n",
       "23   27608  Feature request: add the option of empty query...\n",
       "24   27607        BUG: break reference cycle in Index._engine\n",
       "25   27602                                    Disable codecov\n",
       "26   27599                               Complex value counts\n",
       "27   27597  BUG: groupby.transform(name) validates name is...\n",
       "28   27596        Cannot write partitioned parquet file to S3\n",
       "29   27591  BUG: MultiIndex Slice returns incorrect slice ..."
      ]
     },
     "execution_count": 12,
     "metadata": {},
     "output_type": "execute_result"
    }
   ],
   "source": [
    "issus"
   ]
  }
 ],
 "metadata": {
  "kernelspec": {
   "display_name": "Python 3",
   "language": "python",
   "name": "python3"
  },
  "language_info": {
   "codemirror_mode": {
    "name": "ipython",
    "version": 3
   },
   "file_extension": ".py",
   "mimetype": "text/x-python",
   "name": "python",
   "nbconvert_exporter": "python",
   "pygments_lexer": "ipython3",
   "version": "3.7.1"
  }
 },
 "nbformat": 4,
 "nbformat_minor": 2
}
