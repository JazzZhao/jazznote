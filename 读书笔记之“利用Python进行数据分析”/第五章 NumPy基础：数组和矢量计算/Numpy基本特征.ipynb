{
 "cells": [
  {
   "cell_type": "markdown",
   "metadata": {},
   "source": [
    "### Numpy基本特征\n",
    "#### Numpy的作用\n",
    "Numpy是Numerical Python的简称，大多数计算包都提供了基于Numpy的科学函数功能，将Numpy的数组对象作为数据交换的通用语。它主要包括以下内容：\n",
    "1. ndarray,一种高效多维数组，提供了基于数组的便捷算术操作以及灵活的**广播功能**\n",
    "2. 对所有数据进行快速的矩阵计算，而无须编写循环程序\n",
    "3. 对硬盘中数组数据进行读写的工具，并对内存映射文件进行操作\n",
    "4. 线性代数、随机数生成以及傅里叶变换功能\n",
    "5. 用于连接Numpy到C、C++和Fortran语言类库的C语言API（正是由于Python提供了一个非常易用的C语言API，这使将数据传递给用底层语言编写的外数类库，再由外部类库将计算结果按照Numpy数组的方式返回，变得非常简单）\n",
    "> Numpy并不提供建模和科学函数\n",
    "\n",
    "主要关注的内容：\n",
    "1. 在数据处理、清洗、构造子集、过滤、变换以及其他计算中快速的**向量化计算**\n",
    "2. 常见的数组算法，比如：sort、unique以及set操作等\n",
    "3. 高效的描述性统计和聚合概述数据\n",
    "4. 数据排列和相关数据操作，例如异构数据进行merge和join\n",
    "5. 使用数组表达式来表明条件逻辑，代替if-elif-else条件分支的循环\n",
    "6. 分组数据的操作（聚合、变换以及函数式操作）\n",
    "\n",
    "#### 为什么Numpy会对大量数组的数据有效\n",
    "1. Numpy在内部将数据存储在连续的内存块上。由于Numpy算法库是使用C语言写的，所以在操作数据内存时，不需要任何类型检查或者其他管理操作。Numpy数组使用内存量也小于其他Python内建序列\n",
    "2. Numpy可以针对全量数组进行复杂计算而不需要写Python循环\n",
    "例："
   ]
  },
  {
   "cell_type": "code",
   "execution_count": 1,
   "metadata": {},
   "outputs": [],
   "source": [
    "import numpy as np\n",
    "myarray = np.arange(1000000)\n",
    "mylist = list(range(1000000))"
   ]
  },
  {
   "cell_type": "code",
   "execution_count": 2,
   "metadata": {},
   "outputs": [
    {
     "name": "stdout",
     "output_type": "stream",
     "text": [
      "Wall time: 62.4 ms\n"
     ]
    }
   ],
   "source": [
    "%time for _ in range(10): myarray2 = myarray*2"
   ]
  },
  {
   "cell_type": "code",
   "execution_count": 3,
   "metadata": {},
   "outputs": [
    {
     "name": "stdout",
     "output_type": "stream",
     "text": [
      "Wall time: 2.32 s\n"
     ]
    }
   ],
   "source": [
    "%time for _ in range(10): mylist2 = [x * 2 for x in mylist]"
   ]
  },
  {
   "cell_type": "markdown",
   "metadata": {},
   "source": [
    "可以看出Numpy比Python方法要快10到100倍，并且使用内存少。"
   ]
  },
  {
   "cell_type": "markdown",
   "metadata": {},
   "source": [
    "#### ndarray可以像操作标量一样操作整块数据\n",
    "ndarray是Python中一个快速、灵活的大型数据集容器。数组允许使用类似于标量的操作语法在整块数据上进行数学计算。如下："
   ]
  },
  {
   "cell_type": "code",
   "execution_count": 4,
   "metadata": {},
   "outputs": [],
   "source": [
    "data = np.random.randn(2,3)"
   ]
  },
  {
   "cell_type": "code",
   "execution_count": 5,
   "metadata": {},
   "outputs": [
    {
     "data": {
      "text/plain": [
       "array([[-1.34696983,  1.25804818, -1.06111192],\n",
       "       [-0.98655328, -1.79389748,  0.20694473]])"
      ]
     },
     "execution_count": 5,
     "metadata": {},
     "output_type": "execute_result"
    }
   ],
   "source": [
    "data"
   ]
  },
  {
   "cell_type": "code",
   "execution_count": 6,
   "metadata": {},
   "outputs": [
    {
     "data": {
      "text/plain": [
       "array([[-13.46969827,  12.58048176, -10.61111917],\n",
       "       [ -9.86553282, -17.9389748 ,   2.06944734]])"
      ]
     },
     "execution_count": 6,
     "metadata": {},
     "output_type": "execute_result"
    }
   ],
   "source": [
    "data * 10"
   ]
  },
  {
   "cell_type": "code",
   "execution_count": 7,
   "metadata": {},
   "outputs": [
    {
     "data": {
      "text/plain": [
       "array([[-2.69393965,  2.51609635, -2.12222383],\n",
       "       [-1.97310656, -3.58779496,  0.41388947]])"
      ]
     },
     "execution_count": 7,
     "metadata": {},
     "output_type": "execute_result"
    }
   ],
   "source": [
    "data + data"
   ]
  },
  {
   "cell_type": "markdown",
   "metadata": {},
   "source": [
    "#### shape、ndim和dtype属性\n",
    "shape和dtype是ndarray的属性。ndarray是一个通用的多维同类数据容器，及它包含的每一个元素均为相同类型。\n",
    "每一个数组都有一个shape属性，用来表征数组每一个维度的数量；\n",
    "每一个数组都有一个dtype属性，用来描述数组的数据类型；\n",
    "ndim返回的是数组的维度，返回的只有一个数，该数即表示数组的维度。"
   ]
  },
  {
   "cell_type": "code",
   "execution_count": 9,
   "metadata": {},
   "outputs": [
    {
     "data": {
      "text/plain": [
       "(2, 3)"
      ]
     },
     "execution_count": 9,
     "metadata": {},
     "output_type": "execute_result"
    }
   ],
   "source": [
    "data.shape"
   ]
  },
  {
   "cell_type": "code",
   "execution_count": 10,
   "metadata": {},
   "outputs": [
    {
     "data": {
      "text/plain": [
       "dtype('float64')"
      ]
     },
     "execution_count": 10,
     "metadata": {},
     "output_type": "execute_result"
    }
   ],
   "source": [
    "data.dtype"
   ]
  },
  {
   "cell_type": "code",
   "execution_count": 11,
   "metadata": {},
   "outputs": [
    {
     "data": {
      "text/plain": [
       "2"
      ]
     },
     "execution_count": 11,
     "metadata": {},
     "output_type": "execute_result"
    }
   ],
   "source": [
    "data.ndim"
   ]
  },
  {
   "cell_type": "markdown",
   "metadata": {},
   "source": [
    "#### 如何生成ndarray\n",
    "1. 使用array函数:arrray函数接收任意的序列型对象（包括其他的数组），其中嵌套序列会自动转换成多维数组。"
   ]
  },
  {
   "cell_type": "code",
   "execution_count": 13,
   "metadata": {},
   "outputs": [],
   "source": [
    "data1 = [[1,2,3,4,5],['a','b','c','d','e']]"
   ]
  },
  {
   "cell_type": "code",
   "execution_count": 14,
   "metadata": {},
   "outputs": [],
   "source": [
    "arr1 = np.array(data1)"
   ]
  },
  {
   "cell_type": "code",
   "execution_count": 15,
   "metadata": {},
   "outputs": [
    {
     "data": {
      "text/plain": [
       "array([['1', '2', '3', '4', '5'],\n",
       "       ['a', 'b', 'c', 'd', 'e']], dtype='<U11')"
      ]
     },
     "execution_count": 15,
     "metadata": {},
     "output_type": "execute_result"
    }
   ],
   "source": [
    "arr1"
   ]
  },
  {
   "cell_type": "markdown",
   "metadata": {},
   "source": [
    "从上图也可以看出，ndarray会自动将不同类型的元素给转换为同一类型，并将数据类型存储在元数据dtype中。如果没特别指明的话，默认的数据类型是float64。\n",
    "![](images/15777037-35cd7713729e1b7d.png)\n",
    "2. zeros函数：一次性创建全0数组\n",
    "3. ones函数：一次性创建全1数组\n",
    "4. empty函数：可以创建一个没有初始化数值的数组。该函数并不安全，有些时候它可能返回未初始化的垃圾数值。"
   ]
  },
  {
   "cell_type": "code",
   "execution_count": 17,
   "metadata": {},
   "outputs": [
    {
     "data": {
      "text/plain": [
       "array([0., 0., 0., 0., 0., 0., 0., 0., 0., 0.])"
      ]
     },
     "execution_count": 17,
     "metadata": {},
     "output_type": "execute_result"
    }
   ],
   "source": [
    "np.zeros(10)"
   ]
  },
  {
   "cell_type": "code",
   "execution_count": 20,
   "metadata": {},
   "outputs": [
    {
     "data": {
      "text/plain": [
       "array([[1., 1., 1.],\n",
       "       [1., 1., 1.]])"
      ]
     },
     "execution_count": 20,
     "metadata": {},
     "output_type": "execute_result"
    }
   ],
   "source": [
    "np.ones((2,3))"
   ]
  },
  {
   "cell_type": "code",
   "execution_count": 21,
   "metadata": {},
   "outputs": [
    {
     "data": {
      "text/plain": [
       "array([[[6.79038656e-313, 6.79038653e-313, 2.48273508e-312,\n",
       "         2.46151512e-312],\n",
       "        [2.05833592e-312, 2.41907520e-312, 2.56761491e-312,\n",
       "         2.10077583e-312],\n",
       "        [2.37663529e-312, 2.46151512e-312, 8.48798317e-313,\n",
       "         9.33678149e-313]],\n",
       "\n",
       "       [[1.03977794e-312, 6.79038653e-313, 2.05833592e-312,\n",
       "         2.46151512e-312],\n",
       "        [2.33419537e-312, 1.29441743e-312, 2.48273508e-312,\n",
       "         2.44029516e-312],\n",
       "        [2.16443571e-312, 8.27578359e-313, 9.80058112e+252,\n",
       "         1.23971686e+224]]])"
      ]
     },
     "execution_count": 21,
     "metadata": {},
     "output_type": "execute_result"
    }
   ],
   "source": [
    "np.empty((2,3,4))"
   ]
  },
  {
   "cell_type": "markdown",
   "metadata": {},
   "source": [
    "5. arange是Python内建函数range的数组版"
   ]
  },
  {
   "cell_type": "code",
   "execution_count": 22,
   "metadata": {},
   "outputs": [
    {
     "data": {
      "text/plain": [
       "array([0, 1, 2, 3, 4, 5, 6, 7, 8, 9])"
      ]
     },
     "execution_count": 22,
     "metadata": {},
     "output_type": "execute_result"
    }
   ],
   "source": [
    "np.arange(10)"
   ]
  },
  {
   "cell_type": "markdown",
   "metadata": {},
   "source": [
    "更多函数：\n",
    "![](images/15777037-17d4f57470ef2043.png)\n",
    "#### dtype属性详解\n",
    "dtype包含了ndarray将一块内存解释为特定数据类型所需的信息：\n",
    "dtype是Numpy灵活交互其它系统的源泉之一，多数情况下，它直接映射到相应的机器表示，这使得“读取磁盘上的二进制数据流”以及“集成低级语言代码（如C、Fortran）”等工作变得更加简单。"
   ]
  },
  {
   "cell_type": "code",
   "execution_count": 23,
   "metadata": {},
   "outputs": [],
   "source": [
    "dtypedata = np.array([1,2,3,4],dtype = np.int)"
   ]
  },
  {
   "cell_type": "code",
   "execution_count": 24,
   "metadata": {},
   "outputs": [
    {
     "data": {
      "text/plain": [
       "array([1, 2, 3, 4])"
      ]
     },
     "execution_count": 24,
     "metadata": {},
     "output_type": "execute_result"
    }
   ],
   "source": [
    "dtypedata"
   ]
  },
  {
   "cell_type": "markdown",
   "metadata": {},
   "source": [
    "#### dtype的命名方式及Numpy中的全部数类型\n",
    "数值型dtype的命名方式相同：一个类型名（如float或int）后面跟一个用于表示各元素位长的数字。标准的双精度浮点值（即Python的float对象）需要占用8字节（即64位），因此，该类型在Numpy中就记作float64。下面列出了Numpy所支持的全部数类型：\n",
    "![](images/15777037-8919d75d830023f4.png)\n",
    "![](images/15777037-d15232eec6baa5c4.png)\n",
    "#### 使用astype方法改变数组的dtype\n",
    "1. astype是重新创建一个数组（一个数据的备份），即使新的dtype和旧的dtype相同；如果浮点数转换成整数，则小数部分会被截取删除。如下："
   ]
  },
  {
   "cell_type": "code",
   "execution_count": 25,
   "metadata": {},
   "outputs": [
    {
     "data": {
      "text/plain": [
       "dtype('int32')"
      ]
     },
     "execution_count": 25,
     "metadata": {},
     "output_type": "execute_result"
    }
   ],
   "source": [
    "dtypedata .dtype"
   ]
  },
  {
   "cell_type": "code",
   "execution_count": 26,
   "metadata": {},
   "outputs": [],
   "source": [
    "changeData = dtypedata.astype(np.float64)"
   ]
  },
  {
   "cell_type": "code",
   "execution_count": 27,
   "metadata": {},
   "outputs": [
    {
     "data": {
      "text/plain": [
       "dtype('float64')"
      ]
     },
     "execution_count": 27,
     "metadata": {},
     "output_type": "execute_result"
    }
   ],
   "source": [
    "changeData.dtype"
   ]
  },
  {
   "cell_type": "code",
   "execution_count": 28,
   "metadata": {},
   "outputs": [
    {
     "data": {
      "text/plain": [
       "array([1., 2., 3., 4.])"
      ]
     },
     "execution_count": 28,
     "metadata": {},
     "output_type": "execute_result"
    }
   ],
   "source": [
    "changeData"
   ]
  },
  {
   "cell_type": "markdown",
   "metadata": {},
   "source": [
    "2. 可以将字符串数据类型转换为数值类型：如果字符串数组表示的全是数字，也可以用astype方法转换为数值形式："
   ]
  },
  {
   "cell_type": "code",
   "execution_count": 29,
   "metadata": {},
   "outputs": [],
   "source": [
    "stringData = np.array(['12','23','45','12.2'])"
   ]
  },
  {
   "cell_type": "code",
   "execution_count": 30,
   "metadata": {},
   "outputs": [],
   "source": [
    "floatData = stringData.astype(np.float64)"
   ]
  },
  {
   "cell_type": "code",
   "execution_count": 31,
   "metadata": {},
   "outputs": [
    {
     "data": {
      "text/plain": [
       "array([12. , 23. , 45. , 12.2])"
      ]
     },
     "execution_count": 31,
     "metadata": {},
     "output_type": "execute_result"
    }
   ],
   "source": [
    "floatData"
   ]
  },
  {
   "cell_type": "markdown",
   "metadata": {},
   "source": [
    "3. 可以使用其他的数组类型作为值，进行转换"
   ]
  },
  {
   "cell_type": "code",
   "execution_count": 32,
   "metadata": {},
   "outputs": [],
   "source": [
    "data = np.arange(10)"
   ]
  },
  {
   "cell_type": "code",
   "execution_count": 33,
   "metadata": {},
   "outputs": [],
   "source": [
    "chanData = data.astype(floatData.dtype)"
   ]
  },
  {
   "cell_type": "code",
   "execution_count": 34,
   "metadata": {},
   "outputs": [
    {
     "data": {
      "text/plain": [
       "array([0., 1., 2., 3., 4., 5., 6., 7., 8., 9.])"
      ]
     },
     "execution_count": 34,
     "metadata": {},
     "output_type": "execute_result"
    }
   ],
   "source": [
    "chanData"
   ]
  },
  {
   "cell_type": "markdown",
   "metadata": {},
   "source": [
    "4. 可以使用简洁的类型代码表示dtype"
   ]
  },
  {
   "cell_type": "code",
   "execution_count": 35,
   "metadata": {},
   "outputs": [],
   "source": [
    "empty_data = np.empty(8, dtype = 'u4')"
   ]
  },
  {
   "cell_type": "code",
   "execution_count": 36,
   "metadata": {},
   "outputs": [
    {
     "data": {
      "text/plain": [
       "array([         0, 1076363264,          0, 1077346304,          0,\n",
       "       1078362112, 1717986918, 1076389478], dtype=uint32)"
      ]
     },
     "execution_count": 36,
     "metadata": {},
     "output_type": "execute_result"
    }
   ],
   "source": [
    "empty_data"
   ]
  },
  {
   "cell_type": "markdown",
   "metadata": {},
   "source": [
    "#### 数组之间的运算\n",
    "数组可以使你不用编写循环即可对数据执行批量操作。Numpy用户称之为矢量化。**大小相同**的数组之间的任何运算都会应用到元素级："
   ]
  },
  {
   "cell_type": "code",
   "execution_count": 37,
   "metadata": {},
   "outputs": [
    {
     "data": {
      "text/plain": [
       "array([0, 1, 2, 3, 4, 5, 6, 7, 8, 9])"
      ]
     },
     "execution_count": 37,
     "metadata": {},
     "output_type": "execute_result"
    }
   ],
   "source": [
    "data"
   ]
  },
  {
   "cell_type": "code",
   "execution_count": 38,
   "metadata": {},
   "outputs": [
    {
     "data": {
      "text/plain": [
       "array([ 0,  1,  4,  9, 16, 25, 36, 49, 64, 81])"
      ]
     },
     "execution_count": 38,
     "metadata": {},
     "output_type": "execute_result"
    }
   ],
   "source": [
    "data * data"
   ]
  },
  {
   "cell_type": "code",
   "execution_count": 39,
   "metadata": {},
   "outputs": [
    {
     "data": {
      "text/plain": [
       "array([0, 0, 0, 0, 0, 0, 0, 0, 0, 0])"
      ]
     },
     "execution_count": 39,
     "metadata": {},
     "output_type": "execute_result"
    }
   ],
   "source": [
    "data - data"
   ]
  },
  {
   "cell_type": "code",
   "execution_count": 42,
   "metadata": {},
   "outputs": [
    {
     "data": {
      "text/plain": [
       "array([1.        , 1.        , 0.5       , 0.33333333, 0.25      ,\n",
       "       0.2       , 0.16666667, 0.14285714, 0.125     , 0.11111111])"
      ]
     },
     "execution_count": 42,
     "metadata": {},
     "output_type": "execute_result"
    }
   ],
   "source": [
    "1/data"
   ]
  },
  {
   "cell_type": "code",
   "execution_count": 43,
   "metadata": {},
   "outputs": [
    {
     "data": {
      "text/plain": [
       "array([ True,  True,  True,  True,  True,  True,  True,  True,  True,\n",
       "        True])"
      ]
     },
     "execution_count": 43,
     "metadata": {},
     "output_type": "execute_result"
    }
   ],
   "source": [
    "data == data"
   ]
  }
 ],
 "metadata": {
  "kernelspec": {
   "display_name": "Python 3",
   "language": "python",
   "name": "python3"
  },
  "language_info": {
   "codemirror_mode": {
    "name": "ipython",
    "version": 3
   },
   "file_extension": ".py",
   "mimetype": "text/x-python",
   "name": "python",
   "nbconvert_exporter": "python",
   "pygments_lexer": "ipython3",
   "version": "3.7.1"
  }
 },
 "nbformat": 4,
 "nbformat_minor": 2
}
