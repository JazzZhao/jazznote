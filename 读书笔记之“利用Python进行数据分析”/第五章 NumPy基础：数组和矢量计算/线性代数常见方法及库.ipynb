{
 "cells": [
  {
   "cell_type": "markdown",
   "metadata": {},
   "source": [
    "### 线性代数常见方法及库\n",
    "#### 矩阵点积的三种方法\n",
    "1. x.dot(y)\n",
    "2. np.dot(x, y)\n",
    "3. 使用中缀运算符`@`, x @ np.ons(3)如下："
   ]
  },
  {
   "cell_type": "code",
   "execution_count": 3,
   "metadata": {
    "scrolled": true
   },
   "outputs": [],
   "source": [
    "import numpy as np\n",
    "x = np.arange(10).reshape(2,5)"
   ]
  },
  {
   "cell_type": "code",
   "execution_count": 4,
   "metadata": {},
   "outputs": [
    {
     "data": {
      "text/plain": [
       "array([[0, 1, 2, 3, 4],\n",
       "       [5, 6, 7, 8, 9]])"
      ]
     },
     "execution_count": 4,
     "metadata": {},
     "output_type": "execute_result"
    }
   ],
   "source": [
    "x"
   ]
  },
  {
   "cell_type": "code",
   "execution_count": 5,
   "metadata": {},
   "outputs": [
    {
     "data": {
      "text/plain": [
       "array([10., 35.])"
      ]
     },
     "execution_count": 5,
     "metadata": {},
     "output_type": "execute_result"
    }
   ],
   "source": [
    "x @ np.ones(5)"
   ]
  },
  {
   "cell_type": "markdown",
   "metadata": {},
   "source": [
    "#### numpy.linalg库\n",
    "nympy.linalg中有一组标准的矩阵分解运算以及诸如求逆和行列式之类的东西。它们跟Matlab和R语言使用的是相同的行业标准线性代数库，如BLAS、LAPACK、IntelMKL等："
   ]
  },
  {
   "cell_type": "code",
   "execution_count": 7,
   "metadata": {},
   "outputs": [],
   "source": [
    "from numpy.linalg import inv, qr"
   ]
  },
  {
   "cell_type": "code",
   "execution_count": 9,
   "metadata": {},
   "outputs": [],
   "source": [
    "x_1 = np.random.randn(5,5)"
   ]
  },
  {
   "cell_type": "code",
   "execution_count": 10,
   "metadata": {},
   "outputs": [
    {
     "data": {
      "text/plain": [
       "array([[ 1.32874166,  1.00803803,  0.24590819,  1.28694237,  0.03249118],\n",
       "       [-0.20879383, -0.2628231 , -1.24319026,  0.43761617, -0.07854425],\n",
       "       [-2.50355122, -0.75698042, -0.51539269, -1.38794749,  0.03814209],\n",
       "       [-0.49847529,  0.8905445 ,  0.22290324,  0.79893044, -1.40914028],\n",
       "       [-1.19075521,  0.2906461 ,  0.53359514,  0.94167078, -1.48223096]])"
      ]
     },
     "execution_count": 10,
     "metadata": {},
     "output_type": "execute_result"
    }
   ],
   "source": [
    "x_1"
   ]
  },
  {
   "cell_type": "code",
   "execution_count": 11,
   "metadata": {},
   "outputs": [
    {
     "data": {
      "text/plain": [
       "array([[-0.68097113,  0.04819042, -0.66306593,  0.33736901, -0.35527636],\n",
       "       [ 0.87194979, -0.29530118,  0.68890678,  0.89487999, -0.79826305],\n",
       "       [ 0.11417067, -0.63408591, -0.0342542 , -0.51757055,  0.52727027],\n",
       "       [ 0.74422382,  0.30600328,  0.13286087, -0.92836547,  0.88610393],\n",
       "       [ 1.23194936, -0.1304803 ,  0.73983787, -0.87167137,  0.20698675]])"
      ]
     },
     "execution_count": 11,
     "metadata": {},
     "output_type": "execute_result"
    }
   ],
   "source": [
    "inv(x_1)"
   ]
  },
  {
   "cell_type": "code",
   "execution_count": 15,
   "metadata": {},
   "outputs": [
    {
     "data": {
      "text/plain": [
       "array([[ 1.00000000e+00,  6.11745299e-17,  4.44870385e-16,\n",
       "        -1.36379467e-17,  4.71173598e-17],\n",
       "       [ 2.67342647e-17,  1.00000000e+00, -3.18102578e-17,\n",
       "         2.40940250e-17, -5.37791819e-17],\n",
       "       [-4.40756528e-17,  2.04460093e-18,  1.00000000e+00,\n",
       "        -7.97730019e-17,  7.43558912e-17],\n",
       "       [-1.65829551e-16, -2.32916705e-17, -1.39769964e-16,\n",
       "         1.00000000e+00,  8.77192782e-17],\n",
       "       [-1.65951086e-16, -1.02415102e-16, -1.82006395e-16,\n",
       "         1.05440491e-16,  1.00000000e+00]])"
      ]
     },
     "execution_count": 15,
     "metadata": {},
     "output_type": "execute_result"
    }
   ],
   "source": [
    "x_1.dot(inv(x_1))"
   ]
  },
  {
   "cell_type": "code",
   "execution_count": 13,
   "metadata": {},
   "outputs": [],
   "source": [
    "q, r = qr(x_1)"
   ]
  },
  {
   "cell_type": "code",
   "execution_count": 14,
   "metadata": {},
   "outputs": [
    {
     "data": {
      "text/plain": [
       "array([[-3.12142492, -0.80073508, -0.36205835, -1.14495579, -0.77896383],\n",
       "       [ 0.        ,  1.37644615,  0.7471748 ,  1.67190708, -1.66001965],\n",
       "       [ 0.        ,  0.        ,  1.23153388, -0.4022829 , -0.04932185],\n",
       "       [ 0.        ,  0.        ,  0.        , -1.01544667,  0.69269782],\n",
       "       [ 0.        ,  0.        ,  0.        ,  0.        ,  0.58877145]])"
      ]
     },
     "execution_count": 14,
     "metadata": {},
     "output_type": "execute_result"
    }
   ],
   "source": [
    "r"
   ]
  },
  {
   "cell_type": "markdown",
   "metadata": {},
   "source": [
    "下表给出一些常用的numpy.linalg函数\n",
    "![](images/15777037-9943bacb2a82643f.png)"
   ]
  }
 ],
 "metadata": {
  "kernelspec": {
   "display_name": "Python 3",
   "language": "python",
   "name": "python3"
  },
  "language_info": {
   "codemirror_mode": {
    "name": "ipython",
    "version": 3
   },
   "file_extension": ".py",
   "mimetype": "text/x-python",
   "name": "python",
   "nbconvert_exporter": "python",
   "pygments_lexer": "ipython3",
   "version": "3.7.1"
  }
 },
 "nbformat": 4,
 "nbformat_minor": 2
}
