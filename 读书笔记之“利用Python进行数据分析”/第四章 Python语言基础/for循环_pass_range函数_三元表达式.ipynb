{
 "cells": [
  {
   "cell_type": "markdown",
   "metadata": {},
   "source": [
    "### for循环/pass/range函数/三元表达式\n",
    "#### for循环\n",
    "**break**关键字只结束最内层的for循环，外层的for循环会继续运行。如果集合或迭代器中的元素是一个序列（比如元组或列表），它们可以在for循环语句中很方便地通过拆包成变量：\n",
    "```python\n",
    "for a, b, c in iterator\n",
    "```\n",
    "#### pass\n",
    "**pass**就是Python中的“什么都不做”的语句，它用于在代码段中表示不执行任何操作（或者是作为还没有实现的代码占位符）；之所以需要它，是因为Python使用了缩进来分隔代码块\n",
    "\n",
    "```python\n",
    "if x<0:\n",
    "    print('negative!')\n",
    "elif x==0:\n",
    "    #在这里放点聪明的代码\n",
    "    pass\n",
    "else:\n",
    "    print('positive!')\n",
    "```\n",
    "#### range函数\n",
    "range函数返回一个迭代器，该迭代器生成一个等差整数序列，起始、结尾、步进（可以是负的）可以作为三个参数传给range函数"
   ]
  },
  {
   "cell_type": "code",
   "execution_count": 2,
   "metadata": {},
   "outputs": [
    {
     "data": {
      "text/plain": [
       "range(0, 10)"
      ]
     },
     "execution_count": 2,
     "metadata": {},
     "output_type": "execute_result"
    }
   ],
   "source": [
    "range(10)"
   ]
  },
  {
   "cell_type": "code",
   "execution_count": 3,
   "metadata": {},
   "outputs": [
    {
     "data": {
      "text/plain": [
       "[0, 1, 2, 3, 4, 5, 6, 7, 8, 9]"
      ]
     },
     "execution_count": 3,
     "metadata": {},
     "output_type": "execute_result"
    }
   ],
   "source": [
    "list(range(10))"
   ]
  },
  {
   "cell_type": "code",
   "execution_count": 4,
   "metadata": {},
   "outputs": [
    {
     "data": {
      "text/plain": [
       "[0, 2, 4, 6, 8, 10, 12, 14, 16, 18]"
      ]
     },
     "execution_count": 4,
     "metadata": {},
     "output_type": "execute_result"
    }
   ],
   "source": [
    "list(range(0,20,2))"
   ]
  },
  {
   "cell_type": "markdown",
   "metadata": {},
   "source": [
    ">注：range产生的整数包含起始但不包含结尾\n",
    "#### 三元表达式\n",
    "Python中的三元表达式允许将if-else代码块联合起来，在一行代码或一个语句中生成数据\n",
    "```python\n",
    "value = true-expr if condition else false-expr\n",
    "```\n",
    "\n",
    "此处的true-expr和false-expr可以是任意Python表达式"
   ]
  }
 ],
 "metadata": {
  "kernelspec": {
   "display_name": "Python 3",
   "language": "python",
   "name": "python3"
  },
  "language_info": {
   "codemirror_mode": {
    "name": "ipython",
    "version": 3
   },
   "file_extension": ".py",
   "mimetype": "text/x-python",
   "name": "python",
   "nbconvert_exporter": "python",
   "pygments_lexer": "ipython3",
   "version": "3.7.1"
  }
 },
 "nbformat": 4,
 "nbformat_minor": 2
}
