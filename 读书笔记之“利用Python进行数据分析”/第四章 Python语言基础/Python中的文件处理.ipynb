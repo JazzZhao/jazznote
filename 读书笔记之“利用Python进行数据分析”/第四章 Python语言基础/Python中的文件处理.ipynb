{
 "cells": [
  {
   "cell_type": "markdown",
   "metadata": {},
   "source": [
    "### Python中的文件处理\n",
    "Python中打开文件的方法，可以使用内置的`open`函数以及一个相对或绝对路径，文件默认是以只读模式('r')打开的，然后我们就可以像处理列表一样处理文件句柄f了："
   ]
  },
  {
   "cell_type": "code",
   "execution_count": 43,
   "metadata": {},
   "outputs": [
    {
     "name": "stdout",
     "output_type": "stream",
     "text": [
      "key,pickup_datetime,pickup_longitude,pickup_latitude,dropoff_longitude,dropoff_latitude,passenger_count\n",
      "\n",
      "2015-01-27 13:08:24.0000002,2015-01-27 13:08:24 UTC,-73.973320007324219,40.7638053894043,-73.981430053710938,40.74383544921875,1\n",
      "\n",
      "2015-01-27 13:08:24.0000003,2015-01-27 13:08:24 UTC,-73.986862182617188,40.719383239746094,-73.998886108398438,40.739200592041016,1\n",
      "\n",
      "2011-10-08 11:53:44.0000002,2011-10-08 11:53:44 UTC,-73.982524,40.75126,-73.979654,40.746139,1\n",
      "\n",
      "2012-12-01 21:12:12.0000002,2012-12-01 21:12:12 UTC,-73.98116,40.767807,-73.990448,40.751635,1\n",
      "\n",
      "2012-12-01 21:12:12.0000003,2012-12-01 21:12:12 UTC,-73.966046,40.789775,-73.988565,40.744427,1\n",
      "\n",
      "2012-12-01 21:12:12.0000005,2012-12-01 21:12:12 UTC,-73.960983,40.765547,-73.979177,40.740053,1\n",
      "\n",
      "2011-10-06 12:10:20.0000001,2011-10-06 12:10:20 UTC,-73.949013,40.773204,-73.959622,40.770893,1\n",
      "\n",
      "2011-10-06 12:10:20.0000003,2011-10-06 12:10:20 UTC,-73.777282,40.646636,-73.985083,40.759368,1\n",
      "\n",
      "2011-10-06 12:10:20.0000002,2011-10-06 12:10:20 UTC,-74.014099,40.709638,-73.995106,40.741365,1\n",
      "\n",
      "2014-02-18 15:22:20.0000002,2014-02-18 15:22:20 UTC,-73.969582,40.765519,-73.980686,40.770725,1\n",
      "\n",
      "2014-02-18 15:22:20.0000003,2014-02-18 15:22:20 UTC,-73.989374,40.741973,-73.9993,40.722534,1\n",
      "\n",
      "2014-02-18 15:22:20.0000001,2014-02-18 15:22:20 UTC,-74.001614,40.740893,-73.956387,40.767437,1\n",
      "\n",
      "2010-03-29 20:20:32.0000002,2010-03-29 20:20:32 UTC,-73.991198,40.739937,-73.997166,40.735269,1\n",
      "\n",
      "2010-03-29 20:20:32.0000001,2010-03-29 20:20:32 UTC,-73.982034,40.762723,-74.001867,40.761545,1\n",
      "\n",
      "2011-10-06 03:59:12.0000002,2011-10-06 03:59:12 UTC,-73.992455,40.728701,-73.983397,40.750149,1\n",
      "\n",
      "2011-10-06 03:59:12.0000001,2011-10-06 03:59:12 UTC,-73.983583,40.746993,-73.951178,40.785903,1\n",
      "\n",
      "2012-07-15 16:45:04.0000006,2012-07-15 16:45:04 UTC,-74.006746,40.731721,-74.010204,40.732318,1\n",
      "\n",
      "2012-07-15 16:45:04.0000002,2012-07-15 16:45:04 UTC,-73.976446,40.785598,-73.95222,40.772121,1\n"
     ]
    }
   ],
   "source": [
    "path = './input/test1.csv'\n",
    "f = open(path)\n",
    "for temp in f:\n",
    "    print(temp)"
   ]
  },
  {
   "cell_type": "markdown",
   "metadata": {},
   "source": [
    "从文件中取出的都是带有完整行结束符（EOL），因此经常会使用以下代码得到一组没有EOL的行(这里将换行符去掉了)："
   ]
  },
  {
   "cell_type": "code",
   "execution_count": 49,
   "metadata": {},
   "outputs": [],
   "source": [
    "f = open(path)"
   ]
  },
  {
   "cell_type": "code",
   "execution_count": 45,
   "metadata": {},
   "outputs": [],
   "source": [
    "lines = [temp for temp in f]"
   ]
  },
  {
   "cell_type": "code",
   "execution_count": 46,
   "metadata": {},
   "outputs": [
    {
     "data": {
      "text/plain": [
       "['key,pickup_datetime,pickup_longitude,pickup_latitude,dropoff_longitude,dropoff_latitude,passenger_count\\n',\n",
       " '2015-01-27 13:08:24.0000002,2015-01-27 13:08:24 UTC,-73.973320007324219,40.7638053894043,-73.981430053710938,40.74383544921875,1\\n',\n",
       " '2015-01-27 13:08:24.0000003,2015-01-27 13:08:24 UTC,-73.986862182617188,40.719383239746094,-73.998886108398438,40.739200592041016,1\\n',\n",
       " '2011-10-08 11:53:44.0000002,2011-10-08 11:53:44 UTC,-73.982524,40.75126,-73.979654,40.746139,1\\n',\n",
       " '2012-12-01 21:12:12.0000002,2012-12-01 21:12:12 UTC,-73.98116,40.767807,-73.990448,40.751635,1\\n',\n",
       " '2012-12-01 21:12:12.0000003,2012-12-01 21:12:12 UTC,-73.966046,40.789775,-73.988565,40.744427,1\\n',\n",
       " '2012-12-01 21:12:12.0000005,2012-12-01 21:12:12 UTC,-73.960983,40.765547,-73.979177,40.740053,1\\n',\n",
       " '2011-10-06 12:10:20.0000001,2011-10-06 12:10:20 UTC,-73.949013,40.773204,-73.959622,40.770893,1\\n',\n",
       " '2011-10-06 12:10:20.0000003,2011-10-06 12:10:20 UTC,-73.777282,40.646636,-73.985083,40.759368,1\\n',\n",
       " '2011-10-06 12:10:20.0000002,2011-10-06 12:10:20 UTC,-74.014099,40.709638,-73.995106,40.741365,1\\n',\n",
       " '2014-02-18 15:22:20.0000002,2014-02-18 15:22:20 UTC,-73.969582,40.765519,-73.980686,40.770725,1\\n',\n",
       " '2014-02-18 15:22:20.0000003,2014-02-18 15:22:20 UTC,-73.989374,40.741973,-73.9993,40.722534,1\\n',\n",
       " '2014-02-18 15:22:20.0000001,2014-02-18 15:22:20 UTC,-74.001614,40.740893,-73.956387,40.767437,1\\n',\n",
       " '2010-03-29 20:20:32.0000002,2010-03-29 20:20:32 UTC,-73.991198,40.739937,-73.997166,40.735269,1\\n',\n",
       " '2010-03-29 20:20:32.0000001,2010-03-29 20:20:32 UTC,-73.982034,40.762723,-74.001867,40.761545,1\\n',\n",
       " '2011-10-06 03:59:12.0000002,2011-10-06 03:59:12 UTC,-73.992455,40.728701,-73.983397,40.750149,1\\n',\n",
       " '2011-10-06 03:59:12.0000001,2011-10-06 03:59:12 UTC,-73.983583,40.746993,-73.951178,40.785903,1\\n',\n",
       " '2012-07-15 16:45:04.0000006,2012-07-15 16:45:04 UTC,-74.006746,40.731721,-74.010204,40.732318,1\\n',\n",
       " '2012-07-15 16:45:04.0000002,2012-07-15 16:45:04 UTC,-73.976446,40.785598,-73.95222,40.772121,1']"
      ]
     },
     "execution_count": 46,
     "metadata": {},
     "output_type": "execute_result"
    }
   ],
   "source": [
    "lines"
   ]
  },
  {
   "cell_type": "code",
   "execution_count": 50,
   "metadata": {},
   "outputs": [],
   "source": [
    "lin = [temp.rstrip() for temp in f]"
   ]
  },
  {
   "cell_type": "code",
   "execution_count": 51,
   "metadata": {},
   "outputs": [
    {
     "data": {
      "text/plain": [
       "['key,pickup_datetime,pickup_longitude,pickup_latitude,dropoff_longitude,dropoff_latitude,passenger_count',\n",
       " '2015-01-27 13:08:24.0000002,2015-01-27 13:08:24 UTC,-73.973320007324219,40.7638053894043,-73.981430053710938,40.74383544921875,1',\n",
       " '2015-01-27 13:08:24.0000003,2015-01-27 13:08:24 UTC,-73.986862182617188,40.719383239746094,-73.998886108398438,40.739200592041016,1',\n",
       " '2011-10-08 11:53:44.0000002,2011-10-08 11:53:44 UTC,-73.982524,40.75126,-73.979654,40.746139,1',\n",
       " '2012-12-01 21:12:12.0000002,2012-12-01 21:12:12 UTC,-73.98116,40.767807,-73.990448,40.751635,1',\n",
       " '2012-12-01 21:12:12.0000003,2012-12-01 21:12:12 UTC,-73.966046,40.789775,-73.988565,40.744427,1',\n",
       " '2012-12-01 21:12:12.0000005,2012-12-01 21:12:12 UTC,-73.960983,40.765547,-73.979177,40.740053,1',\n",
       " '2011-10-06 12:10:20.0000001,2011-10-06 12:10:20 UTC,-73.949013,40.773204,-73.959622,40.770893,1',\n",
       " '2011-10-06 12:10:20.0000003,2011-10-06 12:10:20 UTC,-73.777282,40.646636,-73.985083,40.759368,1',\n",
       " '2011-10-06 12:10:20.0000002,2011-10-06 12:10:20 UTC,-74.014099,40.709638,-73.995106,40.741365,1',\n",
       " '2014-02-18 15:22:20.0000002,2014-02-18 15:22:20 UTC,-73.969582,40.765519,-73.980686,40.770725,1',\n",
       " '2014-02-18 15:22:20.0000003,2014-02-18 15:22:20 UTC,-73.989374,40.741973,-73.9993,40.722534,1',\n",
       " '2014-02-18 15:22:20.0000001,2014-02-18 15:22:20 UTC,-74.001614,40.740893,-73.956387,40.767437,1',\n",
       " '2010-03-29 20:20:32.0000002,2010-03-29 20:20:32 UTC,-73.991198,40.739937,-73.997166,40.735269,1',\n",
       " '2010-03-29 20:20:32.0000001,2010-03-29 20:20:32 UTC,-73.982034,40.762723,-74.001867,40.761545,1',\n",
       " '2011-10-06 03:59:12.0000002,2011-10-06 03:59:12 UTC,-73.992455,40.728701,-73.983397,40.750149,1',\n",
       " '2011-10-06 03:59:12.0000001,2011-10-06 03:59:12 UTC,-73.983583,40.746993,-73.951178,40.785903,1',\n",
       " '2012-07-15 16:45:04.0000006,2012-07-15 16:45:04 UTC,-74.006746,40.731721,-74.010204,40.732318,1',\n",
       " '2012-07-15 16:45:04.0000002,2012-07-15 16:45:04 UTC,-73.976446,40.785598,-73.95222,40.772121,1']"
      ]
     },
     "execution_count": 51,
     "metadata": {},
     "output_type": "execute_result"
    }
   ],
   "source": [
    "lin"
   ]
  },
  {
   "cell_type": "code",
   "execution_count": 14,
   "metadata": {},
   "outputs": [],
   "source": [
    "f.close()"
   ]
  },
  {
   "cell_type": "markdown",
   "metadata": {},
   "source": [
    "> 注：打开的文件一定要记得使用`f.close`关闭，这样可以返回操作系统资源\n",
    "\n",
    "python可以使用`with`语句来自动关闭文件："
   ]
  },
  {
   "cell_type": "code",
   "execution_count": 17,
   "metadata": {},
   "outputs": [],
   "source": [
    "with open(path) as f :\n",
    "    lines = [temp.rstrip() for temp in f]"
   ]
  },
  {
   "cell_type": "markdown",
   "metadata": {},
   "source": [
    "如果输入`f=open(path,'w')`打开，就会有一个新文件被创建在path的位置下，并且覆盖掉该位置原来的任何数据，，另外有一个x文件模式，它可以创建可写的文件，但是如果文件路径存在，就无法创建，以下列出了所有的读/写模式\n",
    "![](images/15777037-b2c08d1284dfbbdd.png)"
   ]
  },
  {
   "cell_type": "markdown",
   "metadata": {},
   "source": [
    "#### 文件管理中read、seek和tell函数"
   ]
  },
  {
   "cell_type": "markdown",
   "metadata": {},
   "source": [
    "对于可读文件，一些常用的方法是read、seek和tell。`read`会从文件返回字符，字符的内容是由文件的编码决定的（如UTF-8），如果是二进制模式打开的就是原始字节："
   ]
  },
  {
   "cell_type": "code",
   "execution_count": 22,
   "metadata": {},
   "outputs": [],
   "source": [
    "path = './input/test1.csv'"
   ]
  },
  {
   "cell_type": "code",
   "execution_count": 23,
   "metadata": {},
   "outputs": [],
   "source": [
    "f = open(path, 'rb')"
   ]
  },
  {
   "cell_type": "code",
   "execution_count": 24,
   "metadata": {},
   "outputs": [],
   "source": [
    "data = f.read(10)"
   ]
  },
  {
   "cell_type": "code",
   "execution_count": 25,
   "metadata": {},
   "outputs": [
    {
     "data": {
      "text/plain": [
       "b'\\xe6\\x88\\x91\\xe6\\x98\\xaf\\xe4\\xb8\\xad\\xe5'"
      ]
     },
     "execution_count": 25,
     "metadata": {},
     "output_type": "execute_result"
    }
   ],
   "source": [
    "data"
   ]
  },
  {
   "cell_type": "markdown",
   "metadata": {},
   "source": [
    "`read`模式会将文件句柄的位置提前，提前的数量是读取的字节数。`tell`可以给出当前的位置"
   ]
  },
  {
   "cell_type": "code",
   "execution_count": 26,
   "metadata": {},
   "outputs": [
    {
     "data": {
      "text/plain": [
       "10"
      ]
     },
     "execution_count": 26,
     "metadata": {},
     "output_type": "execute_result"
    }
   ],
   "source": [
    "f.tell()"
   ]
  },
  {
   "cell_type": "markdown",
   "metadata": {},
   "source": [
    "可以使用`sys`模块检查默认的编码"
   ]
  },
  {
   "cell_type": "code",
   "execution_count": 27,
   "metadata": {},
   "outputs": [
    {
     "data": {
      "text/plain": [
       "'utf-8'"
      ]
     },
     "execution_count": 27,
     "metadata": {},
     "output_type": "execute_result"
    }
   ],
   "source": [
    "import sys\n",
    "sys.getdefaultencoding()"
   ]
  },
  {
   "cell_type": "markdown",
   "metadata": {},
   "source": [
    "`seek`可以将文件位置更改为文件中的指定字节："
   ]
  },
  {
   "cell_type": "code",
   "execution_count": 28,
   "metadata": {},
   "outputs": [
    {
     "data": {
      "text/plain": [
       "4"
      ]
     },
     "execution_count": 28,
     "metadata": {},
     "output_type": "execute_result"
    }
   ],
   "source": [
    "f.seek(4)"
   ]
  },
  {
   "cell_type": "code",
   "execution_count": 29,
   "metadata": {},
   "outputs": [
    {
     "data": {
      "text/plain": [
       "b'\\x98'"
      ]
     },
     "execution_count": 29,
     "metadata": {},
     "output_type": "execute_result"
    }
   ],
   "source": [
    "f.read(1)"
   ]
  },
  {
   "cell_type": "markdown",
   "metadata": {},
   "source": [
    "#### 读取中文文件时报错\n",
    "当直接使用`read`方法读取中文文件时会出现以下错误`UnicodeDecodeError: ‘gbk’ codec can’t decode byte 0x9d in position 1270: illegal multibyte sequence`，读取中文文件时只能使用二进制模式读取："
   ]
  },
  {
   "cell_type": "code",
   "execution_count": 30,
   "metadata": {},
   "outputs": [],
   "source": [
    "f = open(path, 'rb')"
   ]
  },
  {
   "cell_type": "code",
   "execution_count": 31,
   "metadata": {},
   "outputs": [],
   "source": [
    "data = f.read()"
   ]
  },
  {
   "cell_type": "code",
   "execution_count": 32,
   "metadata": {},
   "outputs": [],
   "source": [
    "content = data.decode('utf-8')"
   ]
  },
  {
   "cell_type": "code",
   "execution_count": 33,
   "metadata": {},
   "outputs": [
    {
     "data": {
      "text/plain": [
       "'我是中国字\\n\\nfefe\\n\\nfefe'"
      ]
     },
     "execution_count": 33,
     "metadata": {},
     "output_type": "execute_result"
    }
   ],
   "source": [
    "content"
   ]
  },
  {
   "cell_type": "markdown",
   "metadata": {},
   "source": [
    "第二种方法"
   ]
  },
  {
   "cell_type": "code",
   "execution_count": 35,
   "metadata": {},
   "outputs": [],
   "source": [
    "f = open(path, 'r', encoding='utf-8')"
   ]
  },
  {
   "cell_type": "code",
   "execution_count": 36,
   "metadata": {},
   "outputs": [],
   "source": [
    "content = f.read()"
   ]
  },
  {
   "cell_type": "code",
   "execution_count": 37,
   "metadata": {},
   "outputs": [
    {
     "data": {
      "text/plain": [
       "'我是中国字\\n\\nfefe\\n\\nfefe'"
      ]
     },
     "execution_count": 37,
     "metadata": {},
     "output_type": "execute_result"
    }
   ],
   "source": [
    "content"
   ]
  },
  {
   "cell_type": "markdown",
   "metadata": {},
   "source": [
    "#### 文件管理中write和writelines方法\n",
    "这两个函数用于向文件中写入,这两个函数的区别为：\n",
    "1. write()需要传入一个字符串做为参数,否则会报错\n",
    "2. writelines()既可以传入字符串又可以传入一个字符序列,并将该字符序列写入文件\n",
    "\n",
    "下面给一个例子，假设有一个含有中文及空行的文件，在去除空行后写入另一个文件。"
   ]
  },
  {
   "cell_type": "code",
   "execution_count": 38,
   "metadata": {},
   "outputs": [],
   "source": [
    "pathw = './input/temp.csv'"
   ]
  },
  {
   "cell_type": "code",
   "execution_count": 39,
   "metadata": {},
   "outputs": [],
   "source": [
    "f = open(pathw, 'w', encoding='utf-8')"
   ]
  },
  {
   "cell_type": "code",
   "execution_count": 40,
   "metadata": {},
   "outputs": [],
   "source": [
    "f.writelines(x for x in open(path, 'r', encoding='utf-8') if len(x)>1)"
   ]
  },
  {
   "cell_type": "code",
   "execution_count": 41,
   "metadata": {},
   "outputs": [],
   "source": [
    "f.close()"
   ]
  },
  {
   "cell_type": "markdown",
   "metadata": {},
   "source": [
    "#### 文件管理中常见方法\n",
    "![](images/15777037-2b41e1020c1b98f0.png)"
   ]
  }
 ],
 "metadata": {
  "kernelspec": {
   "display_name": "Python 3",
   "language": "python",
   "name": "python3"
  },
  "language_info": {
   "codemirror_mode": {
    "name": "ipython",
    "version": 3
   },
   "file_extension": ".py",
   "mimetype": "text/x-python",
   "name": "python",
   "nbconvert_exporter": "python",
   "pygments_lexer": "ipython3",
   "version": "3.7.1"
  }
 },
 "nbformat": 4,
 "nbformat_minor": 2
}
