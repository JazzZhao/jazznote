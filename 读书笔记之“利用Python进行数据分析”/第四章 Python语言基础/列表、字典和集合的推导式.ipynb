{
 "cells": [
  {
   "cell_type": "markdown",
   "metadata": {},
   "source": [
    "### 列表、字典和集合的推导式\n",
    "列表推导式就是一个过滤器，它用一种简明的表达式过滤列表中的元素，从而生成一个新的列表，基本表达式：\n",
    "```python\n",
    "[expr for val in collection if condition]\n",
    "```\n",
    "\n",
    "它和下面的for循环是等价的\n",
    "```python\n",
    "result = []\n",
    "for val in collection:\n",
    "    if condition:\n",
    "        result.append(expr)\n",
    "```\n",
    "\n",
    "例题：给定一个字符串列表，过滤出长度大于2的，并且将字母改为大写："
   ]
  },
  {
   "cell_type": "code",
   "execution_count": 1,
   "metadata": {},
   "outputs": [
    {
     "data": {
      "text/plain": [
       "['TET']"
      ]
     },
     "execution_count": 1,
     "metadata": {},
     "output_type": "execute_result"
    }
   ],
   "source": [
    "strings = ['a','qe','tet','b']\n",
    "[x.upper() for x in strings if len(x)>2]"
   ]
  },
  {
   "cell_type": "markdown",
   "metadata": {},
   "source": [
    "字典和集合的推导式是列表推导式的自然拓展\n",
    "字典推导式：\n",
    "```python\n",
    "dict_comp = {key-expr : value-expr for value in collection if condition}\n",
    "```\n",
    "集合推导式：\n",
    "```python\n",
    "set_comp = {expr for value in collection if condition}\n",
    "```\n",
    "\n",
    "例：有一个字符串列表，我们想要一个所有字符串长度组成的集合"
   ]
  },
  {
   "cell_type": "code",
   "execution_count": 2,
   "metadata": {},
   "outputs": [],
   "source": [
    "lengths = {len(x) for x in strings}"
   ]
  },
  {
   "cell_type": "code",
   "execution_count": 3,
   "metadata": {},
   "outputs": [
    {
     "data": {
      "text/plain": [
       "{1, 2, 3}"
      ]
     },
     "execution_count": 3,
     "metadata": {},
     "output_type": "execute_result"
    }
   ],
   "source": [
    "lengths"
   ]
  },
  {
   "cell_type": "code",
   "execution_count": 4,
   "metadata": {},
   "outputs": [
    {
     "data": {
      "text/plain": [
       "{1, 2, 3}"
      ]
     },
     "execution_count": 4,
     "metadata": {},
     "output_type": "execute_result"
    }
   ],
   "source": [
    "set(map(len, strings))"
   ]
  },
  {
   "cell_type": "markdown",
   "metadata": {},
   "source": [
    "上图给出了两个方法，其中使用了`map`函数，下面对该函数做出解释\n",
    "\n",
    "#### map函数的使用\n",
    "map()是 Python 内置的高阶函数，它接收一个函数 f 和一个 list，并通过把函数 f 依次作用在 list 的每个元素上，得到一个新的**list**并返回。语法：\n",
    "```python\n",
    "map(function, iterable, ...)\n",
    "```\n",
    "#### 嵌套列表推导式\n",
    "相当于一个多重循环，例：\n",
    "```python\n",
    "[name for names in data for name in names if name.count('e')>=2]\n",
    "```\n",
    "这样形成的是一个列表，其中for循环部分是根据嵌套的顺序排列的，所有的过滤条件像之前一样被放到尾部\n",
    "嵌套列表推导式要和列表推导式中的列表推导式区分开。例：\n",
    "```python\n",
    "[[x for x in tup] for tup in some_tuples]\n",
    "```\n",
    "这样形成的是一个包含列表的列表\n"
   ]
  }
 ],
 "metadata": {
  "kernelspec": {
   "display_name": "Python 3",
   "language": "python",
   "name": "python3"
  },
  "language_info": {
   "codemirror_mode": {
    "name": "ipython",
    "version": 3
   },
   "file_extension": ".py",
   "mimetype": "text/x-python",
   "name": "python",
   "nbconvert_exporter": "python",
   "pygments_lexer": "ipython3",
   "version": "3.7.1"
  }
 },
 "nbformat": 4,
 "nbformat_minor": 2
}
